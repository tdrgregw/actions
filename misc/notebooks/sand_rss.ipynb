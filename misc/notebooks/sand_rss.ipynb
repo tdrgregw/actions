{
 "cells": [
  {
   "cell_type": "code",
   "execution_count": 9,
   "id": "6094dc7c-61d0-4fa8-97d6-6643e9644864",
   "metadata": {},
   "outputs": [],
   "source": [
    "import hashlib\n",
    "import requests\n",
    "\n",
    "import pandas as pd\n",
    "\n",
    "from bs4 import BeautifulSoup\n",
    "from feedgen.feed import FeedGenerator\n",
    "from flask import Flask, make_response\n",
    "from datetime import date, datetime, timezone"
   ]
  },
  {
   "cell_type": "code",
   "execution_count": 7,
   "id": "5b004b03-dc05-4c4f-8aed-d3bc683149f9",
   "metadata": {},
   "outputs": [],
   "source": [
    "URLO = \"https://www.ons.gov.uk/economy/economicoutputandproductivity/output/articles/ukeconomylatest/2021-01-25\"\n",
    "    \n",
    "RESP=requests.get(URLO)\n",
    "HTML=RESP.text\n",
    "\n",
    "SOUP = BeautifulSoup(HTML, \"lxml\")\n",
    "ARTS = SOUP.find_all(\"div\", {\"class\": \"section__content--markdown section__content--markdown--neutral-article\"})"
   ]
  },
  {
   "cell_type": "code",
   "execution_count": 20,
   "id": "64b435a5-17a9-46c0-8f09-e35af1582d4c",
   "metadata": {},
   "outputs": [
    {
     "data": {
      "text/plain": [
       "'Mon, 09 Jan 2023 11:54:19 +0000'"
      ]
     },
     "execution_count": 20,
     "metadata": {},
     "output_type": "execute_result"
    }
   ],
   "source": [
    "dt = datetime.now()\n",
    "dt = dt.replace(tzinfo=timezone.utc)\n",
    "dt = dt.strftime(\"%a, %d %b %Y %H:%M:%S %z\")"
   ]
  },
  {
   "cell_type": "code",
   "execution_count": 27,
   "id": "db9d6f83-4c72-4bf2-a385-1d3ff5687bf1",
   "metadata": {},
   "outputs": [
    {
     "data": {
      "text/html": [
       "<div>\n",
       "<style scoped>\n",
       "    .dataframe tbody tr th:only-of-type {\n",
       "        vertical-align: middle;\n",
       "    }\n",
       "\n",
       "    .dataframe tbody tr th {\n",
       "        vertical-align: top;\n",
       "    }\n",
       "\n",
       "    .dataframe thead th {\n",
       "        text-align: right;\n",
       "    }\n",
       "</style>\n",
       "<table border=\"1\" class=\"dataframe\">\n",
       "  <thead>\n",
       "    <tr style=\"text-align: right;\">\n",
       "      <th></th>\n",
       "      <th>Date</th>\n",
       "      <th>Title</th>\n",
       "      <th>Link</th>\n",
       "      <th>Description</th>\n",
       "      <th>GUID</th>\n",
       "    </tr>\n",
       "  </thead>\n",
       "  <tbody>\n",
       "    <tr>\n",
       "      <th>0</th>\n",
       "      <td>Mon, 09 Jan 2023 11:54:19 +0000</td>\n",
       "      <td>Cost of future fixed-rate mortgages could incr...</td>\n",
       "      <td>/generator?uri=/economy/economicoutputandprodu...</td>\n",
       "      <td>\\n\\nCost of future fixed-rate mortgages could ...</td>\n",
       "      <td>72843048</td>\n",
       "    </tr>\n",
       "    <tr>\n",
       "      <th>1</th>\n",
       "      <td>Mon, 09 Jan 2023 11:54:19 +0000</td>\n",
       "      <td>Post-Christmas retail activity rose compared w...</td>\n",
       "      <td>https://www.ons.gov.uk/releases/economicactivi...</td>\n",
       "      <td>\\n\\nPost-Christmas retail activity rose compar...</td>\n",
       "      <td>72843048</td>\n",
       "    </tr>\n",
       "    <tr>\n",
       "      <th>2</th>\n",
       "      <td>Mon, 09 Jan 2023 11:54:19 +0000</td>\n",
       "      <td>The majority of adults planning to cut spendin...</td>\n",
       "      <td>https://www.ons.gov.uk/peoplepopulationandcomm...</td>\n",
       "      <td>\\n\\nThe majority of adults planning to cut spe...</td>\n",
       "      <td>72843048</td>\n",
       "    </tr>\n",
       "    <tr>\n",
       "      <th>3</th>\n",
       "      <td>Mon, 09 Jan 2023 11:54:19 +0000</td>\n",
       "      <td>Rising food prices leave most vulnerable worst...</td>\n",
       "      <td>https://www.ons.gov.uk/releases/risingfoodpric...</td>\n",
       "      <td>\\n\\nRising food prices leave most vulnerable w...</td>\n",
       "      <td>72843048</td>\n",
       "    </tr>\n",
       "    <tr>\n",
       "      <th>4</th>\n",
       "      <td>Mon, 09 Jan 2023 11:54:19 +0000</td>\n",
       "      <td>Business investment lower than previously esti...</td>\n",
       "      <td>https://www.ons.gov.uk/releases/businessinvest...</td>\n",
       "      <td>\\n\\nBusiness investment lower than previously ...</td>\n",
       "      <td>72843048</td>\n",
       "    </tr>\n",
       "  </tbody>\n",
       "</table>\n",
       "</div>"
      ],
      "text/plain": [
       "                              Date  \\\n",
       "0  Mon, 09 Jan 2023 11:54:19 +0000   \n",
       "1  Mon, 09 Jan 2023 11:54:19 +0000   \n",
       "2  Mon, 09 Jan 2023 11:54:19 +0000   \n",
       "3  Mon, 09 Jan 2023 11:54:19 +0000   \n",
       "4  Mon, 09 Jan 2023 11:54:19 +0000   \n",
       "\n",
       "                                               Title  \\\n",
       "0  Cost of future fixed-rate mortgages could incr...   \n",
       "1  Post-Christmas retail activity rose compared w...   \n",
       "2  The majority of adults planning to cut spendin...   \n",
       "3  Rising food prices leave most vulnerable worst...   \n",
       "4  Business investment lower than previously esti...   \n",
       "\n",
       "                                                Link  \\\n",
       "0  /generator?uri=/economy/economicoutputandprodu...   \n",
       "1  https://www.ons.gov.uk/releases/economicactivi...   \n",
       "2  https://www.ons.gov.uk/peoplepopulationandcomm...   \n",
       "3  https://www.ons.gov.uk/releases/risingfoodpric...   \n",
       "4  https://www.ons.gov.uk/releases/businessinvest...   \n",
       "\n",
       "                                         Description      GUID  \n",
       "0  \\n\\nCost of future fixed-rate mortgages could ...  72843048  \n",
       "1  \\n\\nPost-Christmas retail activity rose compar...  72843048  \n",
       "2  \\n\\nThe majority of adults planning to cut spe...  72843048  \n",
       "3  \\n\\nRising food prices leave most vulnerable w...  72843048  \n",
       "4  \\n\\nBusiness investment lower than previously ...  72843048  "
      ]
     },
     "execution_count": 27,
     "metadata": {},
     "output_type": "execute_result"
    }
   ],
   "source": [
    "# generate data\n",
    "COL = ['Date','Title','Link','Description','GUID']\n",
    "DFO = pd.DataFrame(columns=COL)\n",
    "\n",
    "for ART in ARTS:\n",
    "    if len(ART) > 1:\n",
    "\n",
    "        tt = ART.select('h2,h3')\n",
    "\n",
    "        if tt:\n",
    "            dt = dt\n",
    "            \n",
    "            tt = tt[0].text \n",
    "\n",
    "            try:\n",
    "                lk = ART.find_all('a', href=True)[-2]\n",
    "                lk = lk.get('href')\n",
    "            except:\n",
    "                lk = None\n",
    "\n",
    "            ds = ART.text\n",
    "\n",
    "            gd = 'guid{0}'.format(tt)\n",
    "            gd = str(int(hashlib.sha256(guid.encode('utf-8')).hexdigest(), 16) % 10**8 + 1)\n",
    "            \n",
    "            row = [dt, tt, lk, ds, gd]\n",
    "            DFR = pd.DataFrame([row], columns=COL)\n",
    "\n",
    "            DFO = pd.concat([DFO,DFR], axis=0)\n",
    "            \n",
    "DFO = DFO.reset_index(drop=True).copy()\n",
    "DFO.head()"
   ]
  },
  {
   "cell_type": "code",
   "execution_count": 25,
   "id": "90efc8e3-aff1-4a00-a979-44ced4d03737",
   "metadata": {},
   "outputs": [
    {
     "data": {
      "text/plain": [
       "[{'href': 'https://93b9-51-141-125-233.eu.ngrok.io'}]"
      ]
     },
     "execution_count": 25,
     "metadata": {},
     "output_type": "execute_result"
    }
   ],
   "source": [
    "#initialise feed\n",
    "fg = FeedGenerator()\n",
    "fg.title('UK Economy RSS')\n",
    "fg.description('RSS feed capturing updates to the ONS UK Economy blog')\n",
    "fg.link(href='https://93b9-51-141-125-233.eu.ngrok.io')\n",
    "#fg.image(url_for('static', filename='icon.png'))"
   ]
  },
  {
   "cell_type": "code",
   "execution_count": 32,
   "id": "8f246935-f8c5-434a-88d6-6aa2655457a4",
   "metadata": {},
   "outputs": [],
   "source": [
    "for index, row in DFO.iterrows():\n",
    "    #print(row)\n",
    "    fe = fg.add_entry()\n",
    "    \n",
    "    fe.title(row.Title)\n",
    "    fe.description(row.Date)\n",
    "    fe.link(href=str(row.Link))\n",
    "    \n",
    "    fe.guid(row.GUID, permalink=False)\n",
    "    fe.pubDate(row.Date)\n",
    "    fe.author(name=\"Gregory Weegenaar\", email=\"Gregory.Weegenaar@tdrcapital.com\")\n",
    "    "
   ]
  },
  {
   "cell_type": "code",
   "execution_count": 39,
   "id": "3df07eca-7c63-49e1-9fed-bbecd8c25c40",
   "metadata": {},
   "outputs": [],
   "source": [
    "XML = fg.rss_str()\n",
    "XML = XML.decode(\"utf-8\") "
   ]
  },
  {
   "cell_type": "code",
   "execution_count": 41,
   "id": "6f760627-bb0c-4786-bf94-fd960242277e",
   "metadata": {},
   "outputs": [],
   "source": [
    "with open('readme.txt', 'w') as f:\n",
    "    f.write(XML)"
   ]
  },
  {
   "cell_type": "code",
   "execution_count": null,
   "id": "b1812953-a983-49dc-873a-eafb313ad6a2",
   "metadata": {},
   "outputs": [],
   "source": []
  },
  {
   "cell_type": "code",
   "execution_count": null,
   "id": "5ca886bb",
   "metadata": {},
   "outputs": [],
   "source": []
  },
  {
   "cell_type": "code",
   "execution_count": 2,
   "id": "1f81edcb",
   "metadata": {},
   "outputs": [],
   "source": [
    "from xml.dom import minidom\n",
    "import xml.etree.ElementTree as ET"
   ]
  },
  {
   "cell_type": "code",
   "execution_count": 6,
   "id": "738ba158",
   "metadata": {},
   "outputs": [],
   "source": [
    "PATH = r'C:\\Users\\DS.GWeegenaar\\Desktop\\Python\\sandbox_actions\\misc\\rss\\UK_economy_rss.xml'\n",
    "with open(PATH, 'r', encoding='utf-8') as f:\n",
    "    data = f.read()"
   ]
  },
  {
   "cell_type": "code",
   "execution_count": 14,
   "id": "3f1b7cf7",
   "metadata": {},
   "outputs": [],
   "source": [
    "def transform_xml(XML):\n",
    "    TREE = ET.ElementTree(ET.fromstring(XML))\n",
    "    ROOT = TREE.getroot()\n",
    "    XMLO = minidom.parseString(ET.tostring(ROOT)).toprettyxml(indent=\"   \")\n",
    "    return XMLO"
   ]
  },
  {
   "cell_type": "code",
   "execution_count": 20,
   "id": "042958df",
   "metadata": {},
   "outputs": [],
   "source": [
    "with open(PATH, \"w\", encoding = \"utf-8\") as f:\n",
    "    f.write(xmlstr)"
   ]
  },
  {
   "cell_type": "code",
   "execution_count": 16,
   "id": "9c49b6be",
   "metadata": {},
   "outputs": [],
   "source": []
  },
  {
   "cell_type": "code",
   "execution_count": null,
   "id": "da43ac60",
   "metadata": {},
   "outputs": [],
   "source": []
  }
 ],
 "metadata": {
  "kernelspec": {
   "display_name": "Python 3",
   "language": "python",
   "name": "python3"
  },
  "language_info": {
   "codemirror_mode": {
    "name": "ipython",
    "version": 3
   },
   "file_extension": ".py",
   "mimetype": "text/x-python",
   "name": "python",
   "nbconvert_exporter": "python",
   "pygments_lexer": "ipython3",
   "version": "3.9.1"
  },
  "vscode": {
   "interpreter": {
    "hash": "78ca62a96f9b33f9c0ce64e738e6aa2896013dfbf1c850079451e51aa401ab28"
   }
  }
 },
 "nbformat": 4,
 "nbformat_minor": 5
}
