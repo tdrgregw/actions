{
 "cells": [
  {
   "cell_type": "code",
   "execution_count": 9,
   "id": "6094dc7c-61d0-4fa8-97d6-6643e9644864",
   "metadata": {},
   "outputs": [],
   "source": [
    "import hashlib\n",
    "import requests\n",
    "\n",
    "import pandas as pd\n",
    "\n",
    "from bs4 import BeautifulSoup\n",
    "from feedgen.feed import FeedGenerator\n",
    "from flask import Flask, make_response\n",
    "from datetime import date, datetime, timezone"
   ]
  },
  {
   "cell_type": "code",
   "execution_count": 7,
   "id": "5b004b03-dc05-4c4f-8aed-d3bc683149f9",
   "metadata": {},
   "outputs": [],
   "source": [
    "URLO = \"https://www.ons.gov.uk/economy/economicoutputandproductivity/output/articles/ukeconomylatest/2021-01-25\"\n",
    "    \n",
    "RESP=requests.get(URLO)\n",
    "HTML=RESP.text\n",
    "\n",
    "SOUP = BeautifulSoup(HTML, \"lxml\")\n",
    "ARTS = SOUP.find_all(\"div\", {\"class\": \"section__content--markdown section__content--markdown--neutral-article\"})"
   ]
  },
  {
   "cell_type": "code",
   "execution_count": 20,
   "id": "64b435a5-17a9-46c0-8f09-e35af1582d4c",
   "metadata": {},
   "outputs": [
    {
     "data": {
      "text/plain": [
       "'Mon, 09 Jan 2023 11:54:19 +0000'"
      ]
     },
     "execution_count": 20,
     "metadata": {},
     "output_type": "execute_result"
    }
   ],
   "source": [
    "dt = datetime.now()\n",
    "dt = dt.replace(tzinfo=timezone.utc)\n",
    "dt = dt.strftime(\"%a, %d %b %Y %H:%M:%S %z\")"
   ]
  },
  {
   "cell_type": "code",
   "execution_count": 27,
   "id": "db9d6f83-4c72-4bf2-a385-1d3ff5687bf1",
   "metadata": {},
   "outputs": [
    {
     "data": {
      "text/html": [
       "<div>\n",
       "<style scoped>\n",
       "    .dataframe tbody tr th:only-of-type {\n",
       "        vertical-align: middle;\n",
       "    }\n",
       "\n",
       "    .dataframe tbody tr th {\n",
       "        vertical-align: top;\n",
       "    }\n",
       "\n",
       "    .dataframe thead th {\n",
       "        text-align: right;\n",
       "    }\n",
       "</style>\n",
       "<table border=\"1\" class=\"dataframe\">\n",
       "  <thead>\n",
       "    <tr style=\"text-align: right;\">\n",
       "      <th></th>\n",
       "      <th>Date</th>\n",
       "      <th>Title</th>\n",
       "      <th>Link</th>\n",
       "      <th>Description</th>\n",
       "      <th>GUID</th>\n",
       "    </tr>\n",
       "  </thead>\n",
       "  <tbody>\n",
       "    <tr>\n",
       "      <th>0</th>\n",
       "      <td>Mon, 09 Jan 2023 11:54:19 +0000</td>\n",
       "      <td>Cost of future fixed-rate mortgages could incr...</td>\n",
       "      <td>/generator?uri=/economy/economicoutputandprodu...</td>\n",
       "      <td>\\n\\nCost of future fixed-rate mortgages could ...</td>\n",
       "      <td>72843048</td>\n",
       "    </tr>\n",
       "    <tr>\n",
       "      <th>1</th>\n",
       "      <td>Mon, 09 Jan 2023 11:54:19 +0000</td>\n",
       "      <td>Post-Christmas retail activity rose compared w...</td>\n",
       "      <td>https://www.ons.gov.uk/releases/economicactivi...</td>\n",
       "      <td>\\n\\nPost-Christmas retail activity rose compar...</td>\n",
       "      <td>72843048</td>\n",
       "    </tr>\n",
       "    <tr>\n",
       "      <th>2</th>\n",
       "      <td>Mon, 09 Jan 2023 11:54:19 +0000</td>\n",
       "      <td>The majority of adults planning to cut spendin...</td>\n",
       "      <td>https://www.ons.gov.uk/peoplepopulationandcomm...</td>\n",
       "      <td>\\n\\nThe majority of adults planning to cut spe...</td>\n",
       "      <td>72843048</td>\n",
       "    </tr>\n",
       "    <tr>\n",
       "      <th>3</th>\n",
       "      <td>Mon, 09 Jan 2023 11:54:19 +0000</td>\n",
       "      <td>Rising food prices leave most vulnerable worst...</td>\n",
       "      <td>https://www.ons.gov.uk/releases/risingfoodpric...</td>\n",
       "      <td>\\n\\nRising food prices leave most vulnerable w...</td>\n",
       "      <td>72843048</td>\n",
       "    </tr>\n",
       "    <tr>\n",
       "      <th>4</th>\n",
       "      <td>Mon, 09 Jan 2023 11:54:19 +0000</td>\n",
       "      <td>Business investment lower than previously esti...</td>\n",
       "      <td>https://www.ons.gov.uk/releases/businessinvest...</td>\n",
       "      <td>\\n\\nBusiness investment lower than previously ...</td>\n",
       "      <td>72843048</td>\n",
       "    </tr>\n",
       "  </tbody>\n",
       "</table>\n",
       "</div>"
      ],
      "text/plain": [
       "                              Date  \\\n",
       "0  Mon, 09 Jan 2023 11:54:19 +0000   \n",
       "1  Mon, 09 Jan 2023 11:54:19 +0000   \n",
       "2  Mon, 09 Jan 2023 11:54:19 +0000   \n",
       "3  Mon, 09 Jan 2023 11:54:19 +0000   \n",
       "4  Mon, 09 Jan 2023 11:54:19 +0000   \n",
       "\n",
       "                                               Title  \\\n",
       "0  Cost of future fixed-rate mortgages could incr...   \n",
       "1  Post-Christmas retail activity rose compared w...   \n",
       "2  The majority of adults planning to cut spendin...   \n",
       "3  Rising food prices leave most vulnerable worst...   \n",
       "4  Business investment lower than previously esti...   \n",
       "\n",
       "                                                Link  \\\n",
       "0  /generator?uri=/economy/economicoutputandprodu...   \n",
       "1  https://www.ons.gov.uk/releases/economicactivi...   \n",
       "2  https://www.ons.gov.uk/peoplepopulationandcomm...   \n",
       "3  https://www.ons.gov.uk/releases/risingfoodpric...   \n",
       "4  https://www.ons.gov.uk/releases/businessinvest...   \n",
       "\n",
       "                                         Description      GUID  \n",
       "0  \\n\\nCost of future fixed-rate mortgages could ...  72843048  \n",
       "1  \\n\\nPost-Christmas retail activity rose compar...  72843048  \n",
       "2  \\n\\nThe majority of adults planning to cut spe...  72843048  \n",
       "3  \\n\\nRising food prices leave most vulnerable w...  72843048  \n",
       "4  \\n\\nBusiness investment lower than previously ...  72843048  "
      ]
     },
     "execution_count": 27,
     "metadata": {},
     "output_type": "execute_result"
    }
   ],
   "source": [
    "# generate data\n",
    "COL = ['Date','Title','Link','Description','GUID']\n",
    "DFO = pd.DataFrame(columns=COL)\n",
    "\n",
    "for ART in ARTS:\n",
    "    if len(ART) > 1:\n",
    "\n",
    "        tt = ART.select('h2,h3')\n",
    "\n",
    "        if tt:\n",
    "            dt = dt\n",
    "            \n",
    "            tt = tt[0].text \n",
    "\n",
    "            try:\n",
    "                lk = ART.find_all('a', href=True)[-2]\n",
    "                lk = lk.get('href')\n",
    "            except:\n",
    "                lk = None\n",
    "\n",
    "            ds = ART.text\n",
    "\n",
    "            gd = 'guid{0}'.format(tt)\n",
    "            gd = str(int(hashlib.sha256(guid.encode('utf-8')).hexdigest(), 16) % 10**8 + 1)\n",
    "            \n",
    "            row = [dt, tt, lk, ds, gd]\n",
    "            DFR = pd.DataFrame([row], columns=COL)\n",
    "\n",
    "            DFO = pd.concat([DFO,DFR], axis=0)\n",
    "            \n",
    "DFO = DFO.reset_index(drop=True).copy()\n",
    "DFO.head()"
   ]
  },
  {
   "cell_type": "code",
   "execution_count": 25,
   "id": "90efc8e3-aff1-4a00-a979-44ced4d03737",
   "metadata": {},
   "outputs": [
    {
     "data": {
      "text/plain": [
       "[{'href': 'https://93b9-51-141-125-233.eu.ngrok.io'}]"
      ]
     },
     "execution_count": 25,
     "metadata": {},
     "output_type": "execute_result"
    }
   ],
   "source": [
    "#initialise feed\n",
    "fg = FeedGenerator()\n",
    "fg.title('UK Economy RSS')\n",
    "fg.description('RSS feed capturing updates to the ONS UK Economy blog')\n",
    "fg.link(href='https://93b9-51-141-125-233.eu.ngrok.io')\n",
    "#fg.image(url_for('static', filename='icon.png'))"
   ]
  },
  {
   "cell_type": "code",
   "execution_count": 32,
   "id": "8f246935-f8c5-434a-88d6-6aa2655457a4",
   "metadata": {},
   "outputs": [],
   "source": [
    "for index, row in DFO.iterrows():\n",
    "    #print(row)\n",
    "    fe = fg.add_entry()\n",
    "    \n",
    "    fe.title(row.Title)\n",
    "    fe.description(row.Date)\n",
    "    fe.link(href=str(row.Link))\n",
    "    \n",
    "    fe.guid(row.GUID, permalink=False)\n",
    "    fe.pubDate(row.Date)\n",
    "    fe.author(name=\"Gregory Weegenaar\", email=\"Gregory.Weegenaar@tdrcapital.com\")\n",
    "    "
   ]
  },
  {
   "cell_type": "code",
   "execution_count": 39,
   "id": "3df07eca-7c63-49e1-9fed-bbecd8c25c40",
   "metadata": {},
   "outputs": [],
   "source": [
    "XML = fg.rss_str()\n",
    "XML = XML.decode(\"utf-8\") "
   ]
  },
  {
   "cell_type": "code",
   "execution_count": 41,
   "id": "6f760627-bb0c-4786-bf94-fd960242277e",
   "metadata": {},
   "outputs": [],
   "source": [
    "with open('readme.txt', 'w') as f:\n",
    "    f.write(XML)"
   ]
  },
  {
   "cell_type": "code",
   "execution_count": null,
   "id": "b1812953-a983-49dc-873a-eafb313ad6a2",
   "metadata": {},
   "outputs": [],
   "source": []
  },
  {
   "cell_type": "code",
   "execution_count": null,
   "id": "5ca886bb",
   "metadata": {},
   "outputs": [],
   "source": []
  },
  {
   "cell_type": "code",
   "execution_count": 2,
   "id": "1f81edcb",
   "metadata": {},
   "outputs": [],
   "source": [
    "from xml.dom import minidom\n",
    "import xml.etree.ElementTree as ET"
   ]
  },
  {
   "cell_type": "code",
   "execution_count": 6,
   "id": "738ba158",
   "metadata": {},
   "outputs": [],
   "source": [
    "PATH = r'C:\\Users\\DS.GWeegenaar\\Desktop\\Python\\sandbox_actions\\misc\\rss\\UK_economy_rss.xml'\n",
    "with open(PATH, 'r', encoding='utf-8') as f:\n",
    "    data = f.read()"
   ]
  },
  {
   "cell_type": "code",
   "execution_count": 14,
   "id": "3f1b7cf7",
   "metadata": {},
   "outputs": [],
   "source": [
    "def transform_xml(XML):\n",
    "    TREE = ET.ElementTree(ET.fromstring(XML))\n",
    "    ROOT = TREE.getroot()\n",
    "    XMLO = minidom.parseString(ET.tostring(ROOT)).toprettyxml(indent=\"   \")\n",
    "    return XMLO"
   ]
  },
  {
   "cell_type": "code",
   "execution_count": 20,
   "id": "042958df",
   "metadata": {},
   "outputs": [],
   "source": [
    "with open(PATH, \"w\", encoding = \"utf-8\") as f:\n",
    "    f.write(xmlstr)"
   ]
  },
  {
   "cell_type": "code",
   "execution_count": 45,
   "id": "9c49b6be",
   "metadata": {},
   "outputs": [
    {
     "name": "stdout",
     "output_type": "stream",
     "text": [
      "Collecting js-regex\n",
      "  Using cached js_regex-1.0.1-py3-none-any.whl (12 kB)\n",
      "Installing collected packages: js-regex\n",
      "Successfully installed js-regex-1.0.1\n"
     ]
    }
   ],
   "source": [
    "!pip install js-regex"
   ]
  },
  {
   "cell_type": "code",
   "execution_count": 51,
   "id": "da43ac60",
   "metadata": {},
   "outputs": [],
   "source": [
    "import re\n",
    "import js_regex\n",
    "\n",
    "import json\n",
    "import requests"
   ]
  },
  {
   "cell_type": "code",
   "execution_count": 52,
   "id": "5e6c6500",
   "metadata": {},
   "outputs": [],
   "source": [
    "re.compile(\"^abc$\").search(\"abc\\n\")  # matches, unlike JS\n",
    "js_regex.compile(\"^abc$\").search(\"abc\\n\")  # does not match"
   ]
  },
  {
   "cell_type": "code",
   "execution_count": 38,
   "id": "82230022",
   "metadata": {},
   "outputs": [],
   "source": [
    "base_endpoint = \"https://serpapi.com/search.json?\"\n",
    "input_query = \"allintitle:moody downgrades to site:https://www.moodys.com/\"\n",
    "input_params = {\n",
    "                \"q\": input_query,\n",
    "                \"tbm\": \"nws\",\n",
    "                \"num\": \"100\",\n",
    "                \"location\": \"London\",\n",
    "                \"api_key\": \"ae5695fed402b38494d25f4df01dc61422facdeb77e7b6864d368abdc16c96f5\"\n",
    "                }\n",
    "\n",
    "response_json = requests.get(base_endpoint, params=input_params).json()"
   ]
  },
  {
   "cell_type": "code",
   "execution_count": 75,
   "id": "50eae868",
   "metadata": {},
   "outputs": [
    {
     "name": "stdout",
     "output_type": "stream",
     "text": [
      "A3 -->  City of Hope (CA)  --> Moody's downgrades City of Hope (CA) to A3; outlook stable\n",
      "Caa1 -->  ToriseEcofin's   --> Moody's downgrades TortoiseEcofin's CFR to Caa1; outlook ...\n",
      "Caa3 -->  Tacora Resources'   --> Moody's downgrades Tacora Resources' rating to Caa3 ...\n",
      "Caa3 -->  Takko's   --> Moody's downgrades Takko's CFR to Caa3, outlook negative\n",
      "Caa1 -->  Spin Holdco's   --> Moody's downgrades Spin Holdco's CFR to Caa1; outlook stable\n",
      "unknown --> unknown --> Moody's downgrades Silvergate Bank's long term deposit ...\n",
      "unknown --> unknown --> Moody's downgrades Times China Holdings Limited's ratings ...\n",
      "A3 -->  Perth Amboy, NJ's GOULT   --> Moody's downgrades Perth Amboy, NJ's GOULT rating to A3 ...\n",
      "unknown -->  BW NHHC Holdco's   --> Moody's downgrades BW NHHC Holdco's PDR to D-PD ...\n",
      "unknown -->  Vonovia  --> Research: Rating Action: Moody's downgrades Vonovia to ...\n",
      "Ba3 -->  DaVita's   --> Moody's downgrades DaVita's CFR to Ba3; stable outlook\n",
      "Ba2 -->  Country Garden's   --> Moody's downgrades Country Garden's ratings to Ba2; outlook ...\n",
      "unknown -->  Bed Bath & Beyond  --> Moody's downgrades Bed Bath & Beyond to Ca; outlook ...\n",
      "unknown -->  Ghana   --> Moody's downgrades Ghana ratings to Ca with a stable ...\n",
      "B2 -->  Fosun  B2; changes outlook  --> Moody's downgrades Fosun to B2; changes outlook to negative\n",
      "A2 -->  Chile's   A2, changes outlook  --> Moody's downgrades Chile's ratings to A2, changes outlook to ...\n",
      "B2 -->  VTR's   --> Moody's downgrades VTR's ratings to B2, outlook remains ...\n",
      "Caa3; PDR Caa2 -->  Mitel's   Caa3;   --> Moody's downgrades Mitel's CFR to Caa3; PDR to Caa2-PD ...\n",
      "B3 from B2 -->  Nigeria's   --> Moody's downgrades Nigeria's rating to B3 from B2 and ...\n",
      "Caa1 -->  Pakistan's   --> Moody's downgrades Pakistan's rating to Caa1; outlook ...\n",
      "Ba3 -->  Country Garden  --> Moody's downgrades Country Garden to Ba3; outlook negative\n",
      "B3 -->  Turkiye's   --> Moody's downgrades Turkiye's ratings to B3, changes outlook ...\n",
      "B1 -->  Emergent BioSolutions   --> Moody's downgrades Emergent BioSolutions CFR to B1 from ...\n",
      "Caa1 -->  Glatfelter's   --> Moody's downgrades Glatfelter's CFR to Caa1; outlook negative\n",
      "Caa1 -->  Biscuit's   --> Moody's downgrades Biscuit's rating to Caa1; negative outlook\n",
      "Caa1 -->  Astro One's   --> Moody's downgrades Astro One's CFR to Caa1; outlook is ...\n",
      "Baa3 -->  CPI Property Group  --> Moody's downgrades CPI Property Group to Baa3, outlook ...\n",
      "A3 -->  Milwaukee, WI's GO  --> Moody's downgrades Milwaukee, WI's GO to A3; outlook ...\n",
      "Baa2 -->  Mexico's   --> Moody's downgrades Mexico's ratings to Baa2, changes ...\n",
      "Caa1 -->  Casa's   --> Moody's downgrades Casa's CFR to Caa1; outlook negative\n",
      "Caa1/Caa2 -->  Agile's   --> Moody's downgrades Agile's ratings to Caa1/Caa2; outlook ...\n",
      "Caa2 -->  GCB Bank's   --> Moody's downgrades GCB Bank's ratings to Caa2 and places ...\n",
      "B3 -->  Labeyrie's   --> Moody's downgrades Labeyrie's ratings to B3; outlook ...\n",
      "Caa2 -->  pH Beauty's   --> Moody's downgrades pH Beauty's CFR to Caa2; outlook is ...\n",
      "B3 -->  Tacora Resources'   --> Moody's downgrades Tacora Resources' rating to B3; outlook ...\n",
      "unknown -->  Li & Fung's senior unsecured   --> Moody's downgrades Li & Fung's senior unsecured ratings to ...\n",
      "Caa3 -->  Air Method's   --> Moody's downgrades Air Method's CFR to Caa3; outlook stable\n",
      "Caa3 -->  Vericast's   --> Moody's downgrades Vericast's CFR to Caa3, changes ...\n",
      "B3 -->  Vedanta Resources'   B3, notes  --> Moody's downgrades Vedanta Resources' CFR to B3, notes to ...\n",
      "Caa3 -->  Party City's   --> Moody's downgrades Party City's CFR to Caa3; outlook negative\n",
      "Ba3 from Ba1 -->  Srskogen's   --> Moody's downgrades Storskogen's rating to Ba3 from Ba1 ...\n",
      "Caa1 -->  TKC's   --> Moody's downgrades TKC's CFR to Caa1; outlook negative\n",
      "B2 -->  Emergent BioSolutions   --> Moody's downgrades Emergent BioSolutions CFR to B2 ...\n",
      "Ba3 -->  Ceconomy  --> Moody's downgrades Ceconomy to Ba3; continuing review for ...\n",
      "B3 -->  Diversified Healthcare's   --> Moody's downgrades Diversified Healthcare's CFR to B3 ...\n",
      "Ba2; assigns Ba1 -->  Open Text's   --> Moody's downgrades Open Text's CFR to Ba2; assigns Ba1 ...\n",
      "Ba2 -->  Seagate's   --> Moody's downgrades Seagate's CFR to Ba2; outlook stable\n",
      "unknown --> unknown --> Research: Rating Action: Moody's downgrades At Home's ...\n",
      "B3 -->  B&G Foods'   --> Moody's downgrades B&G Foods' CFR to B3; outlook is stable\n",
      "B3 -->  Kosmos Energy's   --> Moody's downgrades Kosmos Energy's CFR to B3, negative ...\n"
     ]
    }
   ],
   "source": [
    "regex_title  = re.compile(\"Moody's downgrades.*\")\n",
    "regex_rating = js_regex.compile(\"to .*\\d|to '(.*?)'\")\n",
    "regex_company = js_regex.compile(\"downgrades.*to\")\n",
    "\n",
    "for result in response_json['news_results'][0:50]:\n",
    "    result_title = result['title']\n",
    "    if regex_title.search(result_title):\n",
    "        try:\n",
    "            rating_raw = regex_rating.search(result_title)[0]\n",
    "            rating_raw = rating_raw.replace(\"to \",\"\")\n",
    "        except:\n",
    "            rating_raw = 'unknown'\n",
    "        \n",
    "        try:\n",
    "            rating_company = regex_company.search(result_title)[0]\n",
    "            rating_company = re.sub(\"downgrades|to|ratings?|CFR|PDR|  \",\"\", rating_company)\n",
    "        except:\n",
    "            rating_company = 'unknown'\n",
    "        print(rating_raw, '-->',rating_company, '-->', result_title)"
   ]
  },
  {
   "cell_type": "code",
   "execution_count": 57,
   "id": "96d5ae1a",
   "metadata": {},
   "outputs": [
    {
     "data": {
      "text/plain": [
       "'to A3'"
      ]
     },
     "execution_count": 57,
     "metadata": {},
     "output_type": "execute_result"
    }
   ],
   "source": []
  },
  {
   "cell_type": "code",
   "execution_count": null,
   "id": "d8e169a0",
   "metadata": {},
   "outputs": [],
   "source": []
  }
 ],
 "metadata": {
  "kernelspec": {
   "display_name": "env",
   "language": "python",
   "name": "env"
  },
  "language_info": {
   "codemirror_mode": {
    "name": "ipython",
    "version": 3
   },
   "file_extension": ".py",
   "mimetype": "text/x-python",
   "name": "python",
   "nbconvert_exporter": "python",
   "pygments_lexer": "ipython3",
   "version": "3.7.6"
  },
  "vscode": {
   "interpreter": {
    "hash": "619c857ec13bcf36aae99e46e328fcf19701796b3ecab397693a01d3c8b36de6"
   }
  }
 },
 "nbformat": 4,
 "nbformat_minor": 5
}
