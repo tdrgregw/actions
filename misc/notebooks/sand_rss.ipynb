{
 "cells": [
  {
   "cell_type": "code",
   "execution_count": 9,
   "id": "6094dc7c-61d0-4fa8-97d6-6643e9644864",
   "metadata": {},
   "outputs": [],
   "source": [
    "import hashlib\n",
    "import requests\n",
    "\n",
    "import pandas as pd\n",
    "\n",
    "from bs4 import BeautifulSoup\n",
    "from feedgen.feed import FeedGenerator\n",
    "from flask import Flask, make_response\n",
    "from datetime import date, datetime, timezone"
   ]
  },
  {
   "cell_type": "code",
   "execution_count": 7,
   "id": "5b004b03-dc05-4c4f-8aed-d3bc683149f9",
   "metadata": {},
   "outputs": [],
   "source": [
    "URLO = \"https://www.ons.gov.uk/economy/economicoutputandproductivity/output/articles/ukeconomylatest/2021-01-25\"\n",
    "    \n",
    "RESP=requests.get(URLO)\n",
    "HTML=RESP.text\n",
    "\n",
    "SOUP = BeautifulSoup(HTML, \"lxml\")\n",
    "ARTS = SOUP.find_all(\"div\", {\"class\": \"section__content--markdown section__content--markdown--neutral-article\"})"
   ]
  },
  {
   "cell_type": "code",
   "execution_count": 20,
   "id": "64b435a5-17a9-46c0-8f09-e35af1582d4c",
   "metadata": {},
   "outputs": [
    {
     "data": {
      "text/plain": [
       "'Mon, 09 Jan 2023 11:54:19 +0000'"
      ]
     },
     "execution_count": 20,
     "metadata": {},
     "output_type": "execute_result"
    }
   ],
   "source": [
    "dt = datetime.now()\n",
    "dt = dt.replace(tzinfo=timezone.utc)\n",
    "dt = dt.strftime(\"%a, %d %b %Y %H:%M:%S %z\")"
   ]
  },
  {
   "cell_type": "code",
   "execution_count": 27,
   "id": "db9d6f83-4c72-4bf2-a385-1d3ff5687bf1",
   "metadata": {},
   "outputs": [
    {
     "data": {
      "text/html": [
       "<div>\n",
       "<style scoped>\n",
       "    .dataframe tbody tr th:only-of-type {\n",
       "        vertical-align: middle;\n",
       "    }\n",
       "\n",
       "    .dataframe tbody tr th {\n",
       "        vertical-align: top;\n",
       "    }\n",
       "\n",
       "    .dataframe thead th {\n",
       "        text-align: right;\n",
       "    }\n",
       "</style>\n",
       "<table border=\"1\" class=\"dataframe\">\n",
       "  <thead>\n",
       "    <tr style=\"text-align: right;\">\n",
       "      <th></th>\n",
       "      <th>Date</th>\n",
       "      <th>Title</th>\n",
       "      <th>Link</th>\n",
       "      <th>Description</th>\n",
       "      <th>GUID</th>\n",
       "    </tr>\n",
       "  </thead>\n",
       "  <tbody>\n",
       "    <tr>\n",
       "      <th>0</th>\n",
       "      <td>Mon, 09 Jan 2023 11:54:19 +0000</td>\n",
       "      <td>Cost of future fixed-rate mortgages could incr...</td>\n",
       "      <td>/generator?uri=/economy/economicoutputandprodu...</td>\n",
       "      <td>\\n\\nCost of future fixed-rate mortgages could ...</td>\n",
       "      <td>72843048</td>\n",
       "    </tr>\n",
       "    <tr>\n",
       "      <th>1</th>\n",
       "      <td>Mon, 09 Jan 2023 11:54:19 +0000</td>\n",
       "      <td>Post-Christmas retail activity rose compared w...</td>\n",
       "      <td>https://www.ons.gov.uk/releases/economicactivi...</td>\n",
       "      <td>\\n\\nPost-Christmas retail activity rose compar...</td>\n",
       "      <td>72843048</td>\n",
       "    </tr>\n",
       "    <tr>\n",
       "      <th>2</th>\n",
       "      <td>Mon, 09 Jan 2023 11:54:19 +0000</td>\n",
       "      <td>The majority of adults planning to cut spendin...</td>\n",
       "      <td>https://www.ons.gov.uk/peoplepopulationandcomm...</td>\n",
       "      <td>\\n\\nThe majority of adults planning to cut spe...</td>\n",
       "      <td>72843048</td>\n",
       "    </tr>\n",
       "    <tr>\n",
       "      <th>3</th>\n",
       "      <td>Mon, 09 Jan 2023 11:54:19 +0000</td>\n",
       "      <td>Rising food prices leave most vulnerable worst...</td>\n",
       "      <td>https://www.ons.gov.uk/releases/risingfoodpric...</td>\n",
       "      <td>\\n\\nRising food prices leave most vulnerable w...</td>\n",
       "      <td>72843048</td>\n",
       "    </tr>\n",
       "    <tr>\n",
       "      <th>4</th>\n",
       "      <td>Mon, 09 Jan 2023 11:54:19 +0000</td>\n",
       "      <td>Business investment lower than previously esti...</td>\n",
       "      <td>https://www.ons.gov.uk/releases/businessinvest...</td>\n",
       "      <td>\\n\\nBusiness investment lower than previously ...</td>\n",
       "      <td>72843048</td>\n",
       "    </tr>\n",
       "  </tbody>\n",
       "</table>\n",
       "</div>"
      ],
      "text/plain": [
       "                              Date  \\\n",
       "0  Mon, 09 Jan 2023 11:54:19 +0000   \n",
       "1  Mon, 09 Jan 2023 11:54:19 +0000   \n",
       "2  Mon, 09 Jan 2023 11:54:19 +0000   \n",
       "3  Mon, 09 Jan 2023 11:54:19 +0000   \n",
       "4  Mon, 09 Jan 2023 11:54:19 +0000   \n",
       "\n",
       "                                               Title  \\\n",
       "0  Cost of future fixed-rate mortgages could incr...   \n",
       "1  Post-Christmas retail activity rose compared w...   \n",
       "2  The majority of adults planning to cut spendin...   \n",
       "3  Rising food prices leave most vulnerable worst...   \n",
       "4  Business investment lower than previously esti...   \n",
       "\n",
       "                                                Link  \\\n",
       "0  /generator?uri=/economy/economicoutputandprodu...   \n",
       "1  https://www.ons.gov.uk/releases/economicactivi...   \n",
       "2  https://www.ons.gov.uk/peoplepopulationandcomm...   \n",
       "3  https://www.ons.gov.uk/releases/risingfoodpric...   \n",
       "4  https://www.ons.gov.uk/releases/businessinvest...   \n",
       "\n",
       "                                         Description      GUID  \n",
       "0  \\n\\nCost of future fixed-rate mortgages could ...  72843048  \n",
       "1  \\n\\nPost-Christmas retail activity rose compar...  72843048  \n",
       "2  \\n\\nThe majority of adults planning to cut spe...  72843048  \n",
       "3  \\n\\nRising food prices leave most vulnerable w...  72843048  \n",
       "4  \\n\\nBusiness investment lower than previously ...  72843048  "
      ]
     },
     "execution_count": 27,
     "metadata": {},
     "output_type": "execute_result"
    }
   ],
   "source": [
    "# generate data\n",
    "COL = ['Date','Title','Link','Description','GUID']\n",
    "DFO = pd.DataFrame(columns=COL)\n",
    "\n",
    "for ART in ARTS:\n",
    "    if len(ART) > 1:\n",
    "\n",
    "        tt = ART.select('h2,h3')\n",
    "\n",
    "        if tt:\n",
    "            dt = dt\n",
    "            \n",
    "            tt = tt[0].text \n",
    "\n",
    "            try:\n",
    "                lk = ART.find_all('a', href=True)[-2]\n",
    "                lk = lk.get('href')\n",
    "            except:\n",
    "                lk = None\n",
    "\n",
    "            ds = ART.text\n",
    "\n",
    "            gd = 'guid{0}'.format(tt)\n",
    "            gd = str(int(hashlib.sha256(guid.encode('utf-8')).hexdigest(), 16) % 10**8 + 1)\n",
    "            \n",
    "            row = [dt, tt, lk, ds, gd]\n",
    "            DFR = pd.DataFrame([row], columns=COL)\n",
    "\n",
    "            DFO = pd.concat([DFO,DFR], axis=0)\n",
    "            \n",
    "DFO = DFO.reset_index(drop=True).copy()\n",
    "DFO.head()"
   ]
  },
  {
   "cell_type": "code",
   "execution_count": 25,
   "id": "90efc8e3-aff1-4a00-a979-44ced4d03737",
   "metadata": {},
   "outputs": [
    {
     "data": {
      "text/plain": [
       "[{'href': 'https://93b9-51-141-125-233.eu.ngrok.io'}]"
      ]
     },
     "execution_count": 25,
     "metadata": {},
     "output_type": "execute_result"
    }
   ],
   "source": [
    "#initialise feed\n",
    "fg = FeedGenerator()\n",
    "fg.title('UK Economy RSS')\n",
    "fg.description('RSS feed capturing updates to the ONS UK Economy blog')\n",
    "fg.link(href='https://93b9-51-141-125-233.eu.ngrok.io')\n",
    "#fg.image(url_for('static', filename='icon.png'))"
   ]
  },
  {
   "cell_type": "code",
   "execution_count": 32,
   "id": "8f246935-f8c5-434a-88d6-6aa2655457a4",
   "metadata": {},
   "outputs": [],
   "source": [
    "for index, row in DFO.iterrows():\n",
    "    #print(row)\n",
    "    fe = fg.add_entry()\n",
    "    \n",
    "    fe.title(row.Title)\n",
    "    fe.description(row.Date)\n",
    "    fe.link(href=str(row.Link))\n",
    "    \n",
    "    fe.guid(row.GUID, permalink=False)\n",
    "    fe.pubDate(row.Date)\n",
    "    fe.author(name=\"Gregory Weegenaar\", email=\"Gregory.Weegenaar@tdrcapital.com\")\n",
    "    "
   ]
  },
  {
   "cell_type": "code",
   "execution_count": 39,
   "id": "3df07eca-7c63-49e1-9fed-bbecd8c25c40",
   "metadata": {},
   "outputs": [],
   "source": [
    "XML = fg.rss_str()\n",
    "XML = XML.decode(\"utf-8\") "
   ]
  },
  {
   "cell_type": "code",
   "execution_count": 41,
   "id": "6f760627-bb0c-4786-bf94-fd960242277e",
   "metadata": {},
   "outputs": [],
   "source": [
    "with open('readme.txt', 'w') as f:\n",
    "    f.write(XML)"
   ]
  },
  {
   "cell_type": "code",
   "execution_count": null,
   "id": "b1812953-a983-49dc-873a-eafb313ad6a2",
   "metadata": {},
   "outputs": [],
   "source": []
  },
  {
   "cell_type": "code",
   "execution_count": null,
   "id": "5ca886bb",
   "metadata": {},
   "outputs": [],
   "source": []
  },
  {
   "cell_type": "code",
   "execution_count": 2,
   "id": "1f81edcb",
   "metadata": {},
   "outputs": [],
   "source": [
    "from xml.dom import minidom\n",
    "import xml.etree.ElementTree as ET"
   ]
  },
  {
   "cell_type": "code",
   "execution_count": 6,
   "id": "738ba158",
   "metadata": {},
   "outputs": [],
   "source": [
    "PATH = r'C:\\Users\\DS.GWeegenaar\\Desktop\\Python\\sandbox_actions\\misc\\rss\\UK_economy_rss.xml'\n",
    "with open(PATH, 'r', encoding='utf-8') as f:\n",
    "    data = f.read()"
   ]
  },
  {
   "cell_type": "code",
   "execution_count": 14,
   "id": "3f1b7cf7",
   "metadata": {},
   "outputs": [],
   "source": [
    "def transform_xml(XML):\n",
    "    TREE = ET.ElementTree(ET.fromstring(XML))\n",
    "    ROOT = TREE.getroot()\n",
    "    XMLO = minidom.parseString(ET.tostring(ROOT)).toprettyxml(indent=\"   \")\n",
    "    return XMLO"
   ]
  },
  {
   "cell_type": "code",
   "execution_count": 20,
   "id": "042958df",
   "metadata": {},
   "outputs": [],
   "source": [
    "with open(PATH, \"w\", encoding = \"utf-8\") as f:\n",
    "    f.write(xmlstr)"
   ]
  },
  {
   "cell_type": "code",
   "execution_count": null,
   "id": "997acd6a",
   "metadata": {},
   "outputs": [],
   "source": []
  },
  {
   "cell_type": "code",
   "execution_count": null,
   "id": "ba1dea7a",
   "metadata": {},
   "outputs": [],
   "source": []
  },
  {
   "cell_type": "code",
   "execution_count": null,
   "id": "c664d25a",
   "metadata": {},
   "outputs": [],
   "source": [
    "# moody downgrade\n",
    "# moody negative outlook\n",
    "# fitch downgrade\n"
   ]
  },
  {
   "cell_type": "code",
   "execution_count": 106,
   "id": "da43ac60",
   "metadata": {},
   "outputs": [],
   "source": [
    "import re\n",
    "import js_regex\n",
    "\n",
    "import json\n",
    "import requests\n",
    "\n",
    "import spacy\n",
    "nlp = spacy.load(\"en_core_web_sm\")\n",
    "doc = nlp(\"Moody's downgrades Spin Holdco's CFR to Caa1; outlook stable\")"
   ]
  },
  {
   "cell_type": "code",
   "execution_count": 107,
   "id": "5e6c6500",
   "metadata": {},
   "outputs": [
    {
     "data": {
      "text/html": [
       "<span class=\"tex2jax_ignore\"><svg xmlns=\"http://www.w3.org/2000/svg\" xmlns:xlink=\"http://www.w3.org/1999/xlink\" xml:lang=\"en\" id=\"0f777650c8634d45b27ba9596707a371-0\" class=\"displacy\" width=\"1040\" height=\"362.0\" direction=\"ltr\" style=\"max-width: none; height: 362.0px; color: yellow; background: black; font-family: Gill Sans; direction: ltr\">\n",
       "<text class=\"displacy-token\" fill=\"currentColor\" text-anchor=\"middle\" y=\"272.0\">\n",
       "    <tspan class=\"displacy-word\" fill=\"currentColor\" x=\"50\">Moody</tspan>\n",
       "    <tspan class=\"displacy-tag\" dy=\"2em\" fill=\"currentColor\" x=\"50\">PROPN</tspan>\n",
       "</text>\n",
       "\n",
       "<text class=\"displacy-token\" fill=\"currentColor\" text-anchor=\"middle\" y=\"272.0\">\n",
       "    <tspan class=\"displacy-word\" fill=\"currentColor\" x=\"140\">'s</tspan>\n",
       "    <tspan class=\"displacy-tag\" dy=\"2em\" fill=\"currentColor\" x=\"140\">PART</tspan>\n",
       "</text>\n",
       "\n",
       "<text class=\"displacy-token\" fill=\"currentColor\" text-anchor=\"middle\" y=\"272.0\">\n",
       "    <tspan class=\"displacy-word\" fill=\"currentColor\" x=\"230\">downgrades</tspan>\n",
       "    <tspan class=\"displacy-tag\" dy=\"2em\" fill=\"currentColor\" x=\"230\">VERB</tspan>\n",
       "</text>\n",
       "\n",
       "<text class=\"displacy-token\" fill=\"currentColor\" text-anchor=\"middle\" y=\"272.0\">\n",
       "    <tspan class=\"displacy-word\" fill=\"currentColor\" x=\"320\">Spin</tspan>\n",
       "    <tspan class=\"displacy-tag\" dy=\"2em\" fill=\"currentColor\" x=\"320\">PROPN</tspan>\n",
       "</text>\n",
       "\n",
       "<text class=\"displacy-token\" fill=\"currentColor\" text-anchor=\"middle\" y=\"272.0\">\n",
       "    <tspan class=\"displacy-word\" fill=\"currentColor\" x=\"410\">Holdco</tspan>\n",
       "    <tspan class=\"displacy-tag\" dy=\"2em\" fill=\"currentColor\" x=\"410\">PROPN</tspan>\n",
       "</text>\n",
       "\n",
       "<text class=\"displacy-token\" fill=\"currentColor\" text-anchor=\"middle\" y=\"272.0\">\n",
       "    <tspan class=\"displacy-word\" fill=\"currentColor\" x=\"500\">'s</tspan>\n",
       "    <tspan class=\"displacy-tag\" dy=\"2em\" fill=\"currentColor\" x=\"500\">PART</tspan>\n",
       "</text>\n",
       "\n",
       "<text class=\"displacy-token\" fill=\"currentColor\" text-anchor=\"middle\" y=\"272.0\">\n",
       "    <tspan class=\"displacy-word\" fill=\"currentColor\" x=\"590\">CFR</tspan>\n",
       "    <tspan class=\"displacy-tag\" dy=\"2em\" fill=\"currentColor\" x=\"590\">PROPN</tspan>\n",
       "</text>\n",
       "\n",
       "<text class=\"displacy-token\" fill=\"currentColor\" text-anchor=\"middle\" y=\"272.0\">\n",
       "    <tspan class=\"displacy-word\" fill=\"currentColor\" x=\"680\">to</tspan>\n",
       "    <tspan class=\"displacy-tag\" dy=\"2em\" fill=\"currentColor\" x=\"680\">ADP</tspan>\n",
       "</text>\n",
       "\n",
       "<text class=\"displacy-token\" fill=\"currentColor\" text-anchor=\"middle\" y=\"272.0\">\n",
       "    <tspan class=\"displacy-word\" fill=\"currentColor\" x=\"770\">Caa1;</tspan>\n",
       "    <tspan class=\"displacy-tag\" dy=\"2em\" fill=\"currentColor\" x=\"770\">PROPN</tspan>\n",
       "</text>\n",
       "\n",
       "<text class=\"displacy-token\" fill=\"currentColor\" text-anchor=\"middle\" y=\"272.0\">\n",
       "    <tspan class=\"displacy-word\" fill=\"currentColor\" x=\"860\">outlook</tspan>\n",
       "    <tspan class=\"displacy-tag\" dy=\"2em\" fill=\"currentColor\" x=\"860\">VERB</tspan>\n",
       "</text>\n",
       "\n",
       "<text class=\"displacy-token\" fill=\"currentColor\" text-anchor=\"middle\" y=\"272.0\">\n",
       "    <tspan class=\"displacy-word\" fill=\"currentColor\" x=\"950\">stable</tspan>\n",
       "    <tspan class=\"displacy-tag\" dy=\"2em\" fill=\"currentColor\" x=\"950\">ADJ</tspan>\n",
       "</text>\n",
       "\n",
       "<g class=\"displacy-arrow\">\n",
       "    <path class=\"displacy-arc\" id=\"arrow-0f777650c8634d45b27ba9596707a371-0-0\" stroke-width=\"2px\" d=\"M62,227.0 62,197.0 221.0,197.0 221.0,227.0\" fill=\"none\" stroke=\"currentColor\"/>\n",
       "    <text dy=\"1.25em\" style=\"font-size: 0.8em; letter-spacing: 1px\">\n",
       "        <textPath xlink:href=\"#arrow-0f777650c8634d45b27ba9596707a371-0-0\" class=\"displacy-label\" startOffset=\"50%\" side=\"left\" fill=\"currentColor\" text-anchor=\"middle\">nsubj</textPath>\n",
       "    </text>\n",
       "    <path class=\"displacy-arrowhead\" d=\"M62,229.0 L58,221.0 66,221.0\" fill=\"currentColor\"/>\n",
       "</g>\n",
       "\n",
       "<g class=\"displacy-arrow\">\n",
       "    <path class=\"displacy-arc\" id=\"arrow-0f777650c8634d45b27ba9596707a371-0-1\" stroke-width=\"2px\" d=\"M62,227.0 62,212.0 128.0,212.0 128.0,227.0\" fill=\"none\" stroke=\"currentColor\"/>\n",
       "    <text dy=\"1.25em\" style=\"font-size: 0.8em; letter-spacing: 1px\">\n",
       "        <textPath xlink:href=\"#arrow-0f777650c8634d45b27ba9596707a371-0-1\" class=\"displacy-label\" startOffset=\"50%\" side=\"left\" fill=\"currentColor\" text-anchor=\"middle\">case</textPath>\n",
       "    </text>\n",
       "    <path class=\"displacy-arrowhead\" d=\"M128.0,229.0 L132.0,221.0 124.0,221.0\" fill=\"currentColor\"/>\n",
       "</g>\n",
       "\n",
       "<g class=\"displacy-arrow\">\n",
       "    <path class=\"displacy-arc\" id=\"arrow-0f777650c8634d45b27ba9596707a371-0-2\" stroke-width=\"2px\" d=\"M332,227.0 332,212.0 398.0,212.0 398.0,227.0\" fill=\"none\" stroke=\"currentColor\"/>\n",
       "    <text dy=\"1.25em\" style=\"font-size: 0.8em; letter-spacing: 1px\">\n",
       "        <textPath xlink:href=\"#arrow-0f777650c8634d45b27ba9596707a371-0-2\" class=\"displacy-label\" startOffset=\"50%\" side=\"left\" fill=\"currentColor\" text-anchor=\"middle\">compound</textPath>\n",
       "    </text>\n",
       "    <path class=\"displacy-arrowhead\" d=\"M332,229.0 L328,221.0 336,221.0\" fill=\"currentColor\"/>\n",
       "</g>\n",
       "\n",
       "<g class=\"displacy-arrow\">\n",
       "    <path class=\"displacy-arc\" id=\"arrow-0f777650c8634d45b27ba9596707a371-0-3\" stroke-width=\"2px\" d=\"M422,227.0 422,197.0 581.0,197.0 581.0,227.0\" fill=\"none\" stroke=\"currentColor\"/>\n",
       "    <text dy=\"1.25em\" style=\"font-size: 0.8em; letter-spacing: 1px\">\n",
       "        <textPath xlink:href=\"#arrow-0f777650c8634d45b27ba9596707a371-0-3\" class=\"displacy-label\" startOffset=\"50%\" side=\"left\" fill=\"currentColor\" text-anchor=\"middle\">poss</textPath>\n",
       "    </text>\n",
       "    <path class=\"displacy-arrowhead\" d=\"M422,229.0 L418,221.0 426,221.0\" fill=\"currentColor\"/>\n",
       "</g>\n",
       "\n",
       "<g class=\"displacy-arrow\">\n",
       "    <path class=\"displacy-arc\" id=\"arrow-0f777650c8634d45b27ba9596707a371-0-4\" stroke-width=\"2px\" d=\"M422,227.0 422,212.0 488.0,212.0 488.0,227.0\" fill=\"none\" stroke=\"currentColor\"/>\n",
       "    <text dy=\"1.25em\" style=\"font-size: 0.8em; letter-spacing: 1px\">\n",
       "        <textPath xlink:href=\"#arrow-0f777650c8634d45b27ba9596707a371-0-4\" class=\"displacy-label\" startOffset=\"50%\" side=\"left\" fill=\"currentColor\" text-anchor=\"middle\">case</textPath>\n",
       "    </text>\n",
       "    <path class=\"displacy-arrowhead\" d=\"M488.0,229.0 L492.0,221.0 484.0,221.0\" fill=\"currentColor\"/>\n",
       "</g>\n",
       "\n",
       "<g class=\"displacy-arrow\">\n",
       "    <path class=\"displacy-arc\" id=\"arrow-0f777650c8634d45b27ba9596707a371-0-5\" stroke-width=\"2px\" d=\"M242,227.0 242,182.0 584.0,182.0 584.0,227.0\" fill=\"none\" stroke=\"currentColor\"/>\n",
       "    <text dy=\"1.25em\" style=\"font-size: 0.8em; letter-spacing: 1px\">\n",
       "        <textPath xlink:href=\"#arrow-0f777650c8634d45b27ba9596707a371-0-5\" class=\"displacy-label\" startOffset=\"50%\" side=\"left\" fill=\"currentColor\" text-anchor=\"middle\">dobj</textPath>\n",
       "    </text>\n",
       "    <path class=\"displacy-arrowhead\" d=\"M584.0,229.0 L588.0,221.0 580.0,221.0\" fill=\"currentColor\"/>\n",
       "</g>\n",
       "\n",
       "<g class=\"displacy-arrow\">\n",
       "    <path class=\"displacy-arc\" id=\"arrow-0f777650c8634d45b27ba9596707a371-0-6\" stroke-width=\"2px\" d=\"M242,227.0 242,167.0 677.0,167.0 677.0,227.0\" fill=\"none\" stroke=\"currentColor\"/>\n",
       "    <text dy=\"1.25em\" style=\"font-size: 0.8em; letter-spacing: 1px\">\n",
       "        <textPath xlink:href=\"#arrow-0f777650c8634d45b27ba9596707a371-0-6\" class=\"displacy-label\" startOffset=\"50%\" side=\"left\" fill=\"currentColor\" text-anchor=\"middle\">dative</textPath>\n",
       "    </text>\n",
       "    <path class=\"displacy-arrowhead\" d=\"M677.0,229.0 L681.0,221.0 673.0,221.0\" fill=\"currentColor\"/>\n",
       "</g>\n",
       "\n",
       "<g class=\"displacy-arrow\">\n",
       "    <path class=\"displacy-arc\" id=\"arrow-0f777650c8634d45b27ba9596707a371-0-7\" stroke-width=\"2px\" d=\"M692,227.0 692,212.0 758.0,212.0 758.0,227.0\" fill=\"none\" stroke=\"currentColor\"/>\n",
       "    <text dy=\"1.25em\" style=\"font-size: 0.8em; letter-spacing: 1px\">\n",
       "        <textPath xlink:href=\"#arrow-0f777650c8634d45b27ba9596707a371-0-7\" class=\"displacy-label\" startOffset=\"50%\" side=\"left\" fill=\"currentColor\" text-anchor=\"middle\">pobj</textPath>\n",
       "    </text>\n",
       "    <path class=\"displacy-arrowhead\" d=\"M758.0,229.0 L762.0,221.0 754.0,221.0\" fill=\"currentColor\"/>\n",
       "</g>\n",
       "\n",
       "<g class=\"displacy-arrow\">\n",
       "    <path class=\"displacy-arc\" id=\"arrow-0f777650c8634d45b27ba9596707a371-0-8\" stroke-width=\"2px\" d=\"M242,227.0 242,152.0 860.0,152.0 860.0,227.0\" fill=\"none\" stroke=\"currentColor\"/>\n",
       "    <text dy=\"1.25em\" style=\"font-size: 0.8em; letter-spacing: 1px\">\n",
       "        <textPath xlink:href=\"#arrow-0f777650c8634d45b27ba9596707a371-0-8\" class=\"displacy-label\" startOffset=\"50%\" side=\"left\" fill=\"currentColor\" text-anchor=\"middle\">conj</textPath>\n",
       "    </text>\n",
       "    <path class=\"displacy-arrowhead\" d=\"M860.0,229.0 L864.0,221.0 856.0,221.0\" fill=\"currentColor\"/>\n",
       "</g>\n",
       "\n",
       "<g class=\"displacy-arrow\">\n",
       "    <path class=\"displacy-arc\" id=\"arrow-0f777650c8634d45b27ba9596707a371-0-9\" stroke-width=\"2px\" d=\"M872,227.0 872,212.0 938.0,212.0 938.0,227.0\" fill=\"none\" stroke=\"currentColor\"/>\n",
       "    <text dy=\"1.25em\" style=\"font-size: 0.8em; letter-spacing: 1px\">\n",
       "        <textPath xlink:href=\"#arrow-0f777650c8634d45b27ba9596707a371-0-9\" class=\"displacy-label\" startOffset=\"50%\" side=\"left\" fill=\"currentColor\" text-anchor=\"middle\">acomp</textPath>\n",
       "    </text>\n",
       "    <path class=\"displacy-arrowhead\" d=\"M938.0,229.0 L942.0,221.0 934.0,221.0\" fill=\"currentColor\"/>\n",
       "</g>\n",
       "</svg></span>"
      ],
      "text/plain": [
       "<IPython.core.display.HTML object>"
      ]
     },
     "metadata": {},
     "output_type": "display_data"
    }
   ],
   "source": [
    "from spacy import displacy\n",
    "#Set some display options for the visualizer\n",
    "options = {\"compact\": True, \"distance\": 90, \"color\": \"yellow\", \"bg\": \"black\", \"font\": \"Gill Sans\"}\n",
    "\n",
    "displacy.render(doc, style=\"dep\", options=options)"
   ]
  },
  {
   "cell_type": "code",
   "execution_count": 100,
   "id": "82230022",
   "metadata": {},
   "outputs": [],
   "source": [
    "base_endpoint = \"https://serpapi.com/search.json?\"\n",
    "input_query = \"allintitle:moody downgrades to site:https://www.moodys.com/\"\n",
    "input_params = {\n",
    "                \"q\": input_query,\n",
    "                \"tbm\": \"nws\",\n",
    "                \"num\": \"100\",\n",
    "                \"location\": \"London\",\n",
    "                \"api_key\": \"ae5695fed402b38494d25f4df01dc61422facdeb77e7b6864d368abdc16c96f5\"\n",
    "                }\n",
    "\n",
    "response_json = requests.get(base_endpoint, params=input_params).json()"
   ]
  },
  {
   "cell_type": "code",
   "execution_count": 105,
   "id": "50eae868",
   "metadata": {},
   "outputs": [
    {
     "name": "stdout",
     "output_type": "stream",
     "text": [
      "Moody's downgrades City of Hope (CA) to A3; outlook stable\n",
      "Moody's downgrades TortoiseEcofin's CFR to Caa1; outlook ...\n",
      "Moody's downgrades Tacora Resources' rating to Caa3 ...\n",
      "Moody's downgrades Takko's CFR to Caa3, outlook negative\n",
      "Moody's downgrades Spin Holdco's CFR to Caa1; outlook stable\n"
     ]
    }
   ],
   "source": [
    "regex_title  = re.compile(\"Moody's downgrades.*\")\n",
    "regex_rating = js_regex.compile(\"to .*\\d|to '(.*?)'\")\n",
    "regex_company = js_regex.compile(\"downgrades.*to\")\n",
    "\n",
    "for result in response_json['news_results'][0:5]:\n",
    "    result_title = result['title']\n",
    "    if regex_title.search(result_title):\n",
    "\n",
    "        try:\n",
    "            rating_raw = regex_rating.search(result_title)[0]\n",
    "            rating_raw = rating_raw.replace(\"to \",\"\")\n",
    "        except:\n",
    "            rating_raw = 'unknown'        \n",
    "        try:\n",
    "            rating_company = regex_company.search(result_title)[0]\n",
    "            rating_company = re.sub(\"downgrades|to|ratings?|CFR|PDR|  \",\"\", rating_company)\n",
    "        except:\n",
    "            rating_company = 'unknown'\n",
    "        \n",
    "        print(result_title) #print(rating_raw, '-->',rating_company, '-->', result_title)"
   ]
  },
  {
   "cell_type": "code",
   "execution_count": 57,
   "id": "96d5ae1a",
   "metadata": {},
   "outputs": [
    {
     "data": {
      "text/plain": [
       "'to A3'"
      ]
     },
     "execution_count": 57,
     "metadata": {},
     "output_type": "execute_result"
    }
   ],
   "source": []
  },
  {
   "cell_type": "code",
   "execution_count": null,
   "id": "d8e169a0",
   "metadata": {},
   "outputs": [],
   "source": []
  }
 ],
 "metadata": {
  "kernelspec": {
   "display_name": "env",
   "language": "python",
   "name": "env"
  },
  "language_info": {
   "codemirror_mode": {
    "name": "ipython",
    "version": 3
   },
   "file_extension": ".py",
   "mimetype": "text/x-python",
   "name": "python",
   "nbconvert_exporter": "python",
   "pygments_lexer": "ipython3",
   "version": "3.7.6"
  },
  "vscode": {
   "interpreter": {
    "hash": "619c857ec13bcf36aae99e46e328fcf19701796b3ecab397693a01d3c8b36de6"
   }
  }
 },
 "nbformat": 4,
 "nbformat_minor": 5
}
