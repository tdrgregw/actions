{
 "cells": [
  {
   "cell_type": "code",
   "execution_count": 1,
   "metadata": {},
   "outputs": [],
   "source": [
    "from help_rss import *"
   ]
  },
  {
   "cell_type": "code",
   "execution_count": 4,
   "metadata": {},
   "outputs": [],
   "source": [
    "def extract_blog():\n",
    "    \"\"\"  Docstring \"\"\"\n",
    "    URLO = \"https://www.ons.gov.uk/economy/economicoutputandproductivity/output/articles/ukeconomylatest/2021-01-25\"\n",
    "    \n",
    "    CLS = ['Date','Title','Link','Description','GUID']\n",
    "    DFO = pd.DataFrame(columns=CLS)\n",
    "    dt = extract_date()\n",
    "    \n",
    "    RESP=requests.get(URLO)\n",
    "    HTML=RESP.text\n",
    "\n",
    "    SOUP = BeautifulSoup(HTML, \"lxml\")\n",
    "    ARTS = SOUP.find_all(\"div\", {\"class\": \"section__content--markdown section__content--markdown--neutral-article\"})\n",
    "\n",
    "    for ART in ARTS:\n",
    "        if len(ART) > 1:\n",
    "\n",
    "            tt = ART.select('h2,h3')\n",
    "\n",
    "            if tt:\n",
    "                tt = tt[0].text \n",
    "\n",
    "                try:\n",
    "                    lk = ART.find_all('a', href=True)[-2]\n",
    "                    lk = lk.get('href')\n",
    "                except:\n",
    "                    lk = None\n",
    "\n",
    "                ds = ART.get_text(separator=' ', strip=True)\n",
    "\n",
    "                gd = 'guid{0}'.format(tt)\n",
    "                gd = str(int(hashlib.sha256(gd.encode('utf-8')).hexdigest(), 16) % 10**8 + 1)\n",
    "                \n",
    "                row = [dt, tt, lk, ds, gd]\n",
    "                DFR = pd.DataFrame([row], columns=CLS)\n",
    "                DFO = pd.concat([DFO,DFR], axis=0)\n",
    "                \n",
    "    DFO = DFO.reset_index(drop=True).copy()\n",
    "    return DFO"
   ]
  },
  {
   "cell_type": "code",
   "execution_count": 6,
   "metadata": {},
   "outputs": [],
   "source": [
    "test = extract_blog()"
   ]
  },
  {
   "cell_type": "code",
   "execution_count": 8,
   "metadata": {},
   "outputs": [
    {
     "ename": "NameError",
     "evalue": "name 'ART' is not defined",
     "output_type": "error",
     "traceback": [
      "\u001b[0;31m---------------------------------------------------------------------------\u001b[0m",
      "\u001b[0;31mNameError\u001b[0m                                 Traceback (most recent call last)",
      "Cell \u001b[0;32mIn[8], line 2\u001b[0m\n\u001b[1;32m      1\u001b[0m \u001b[39m#test.iloc[0].Description\u001b[39;00m\n\u001b[0;32m----> 2\u001b[0m ART\n",
      "\u001b[0;31mNameError\u001b[0m: name 'ART' is not defined"
     ]
    }
   ],
   "source": [
    "#test.iloc[0].Description\n",
    "ART"
   ]
  },
  {
   "cell_type": "code",
   "execution_count": null,
   "metadata": {},
   "outputs": [],
   "source": []
  }
 ],
 "metadata": {
  "kernelspec": {
   "display_name": "Python 3",
   "language": "python",
   "name": "python3"
  },
  "language_info": {
   "codemirror_mode": {
    "name": "ipython",
    "version": 3
   },
   "file_extension": ".py",
   "mimetype": "text/x-python",
   "name": "python",
   "nbconvert_exporter": "python",
   "pygments_lexer": "ipython3",
   "version": "3.10.4"
  },
  "orig_nbformat": 4,
  "vscode": {
   "interpreter": {
    "hash": "3ad933181bd8a04b432d3370b9dc3b0662ad032c4dfaa4e4f1596c548f763858"
   }
  }
 },
 "nbformat": 4,
 "nbformat_minor": 2
}
